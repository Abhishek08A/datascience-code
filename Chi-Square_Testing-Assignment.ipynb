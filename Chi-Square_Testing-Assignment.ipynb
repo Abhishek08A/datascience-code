{
 "cells": [
  {
   "cell_type": "code",
   "execution_count": null,
   "id": "11b2a54d-c95f-4fb8-8c57-464cbdcd9bcd",
   "metadata": {},
   "outputs": [],
   "source": [
    "# NuLl hypothesis (H0): there is no significant association between the type of device\n",
    "# purchased and the customer's satification level"
   ]
  },
  {
   "cell_type": "code",
   "execution_count": null,
   "id": "f944c197-1ac8-4fcb-aa0a-89cf51219ee5",
   "metadata": {},
   "outputs": [],
   "source": [
    "# Alternative Hypothesis (H1): there is a significant association between the type of device \n",
    "# purchased and the customer's satisfication level"
   ]
  },
  {
   "cell_type": "code",
   "execution_count": 3,
   "id": "0818d5a0-ae09-4ff6-86f3-7bbee374b54e",
   "metadata": {},
   "outputs": [],
   "source": [
    "import numpy as np\n",
    "from scipy.stats import chi2_contingency"
   ]
  },
  {
   "cell_type": "code",
   "execution_count": 5,
   "id": "a8160dc9-4c80-44cb-8547-cb3f0c5f204b",
   "metadata": {},
   "outputs": [],
   "source": [
    "data=np.array([[50,70],\n",
    "               [80,100],\n",
    "               [60,90],\n",
    "               [30,50],\n",
    "               [20,50]])"
   ]
  },
  {
   "cell_type": "code",
   "execution_count": 9,
   "id": "6cb5e143-30d9-4ff6-af55-4fe447769d2e",
   "metadata": {},
   "outputs": [],
   "source": [
    "chi2, p, dof, expected = chi2_contingency(data)"
   ]
  },
  {
   "cell_type": "code",
   "execution_count": 11,
   "id": "29db61af-0ff2-4576-99b9-2e805856f55e",
   "metadata": {},
   "outputs": [
    {
     "name": "stdout",
     "output_type": "stream",
     "text": [
      "Degrees of Freedom: 4\n"
     ]
    }
   ],
   "source": [
    "print(f'Degrees of Freedom: {dof}')"
   ]
  },
  {
   "cell_type": "code",
   "execution_count": 13,
   "id": "6901428f-b9b7-41a8-ae61-97be3fdad112",
   "metadata": {},
   "outputs": [
    {
     "name": "stdout",
     "output_type": "stream",
     "text": [
      "P-value: 0.22784371130697179\n"
     ]
    }
   ],
   "source": [
    "print(f'P-value: {p}')"
   ]
  },
  {
   "cell_type": "code",
   "execution_count": 17,
   "id": "3412e0f1-bf38-4d3c-93c6-539d82a17931",
   "metadata": {},
   "outputs": [],
   "source": [
    "from scipy.stats import chi2 as chi2_dist\n",
    "alpha = 0.05\n",
    "critical_value = chi2_dist.ppf(1 -alpha,dof)"
   ]
  },
  {
   "cell_type": "code",
   "execution_count": 19,
   "id": "d1792ea5-4079-49f1-9915-f2ecccaa8077",
   "metadata": {},
   "outputs": [
    {
     "name": "stdout",
     "output_type": "stream",
     "text": [
      "Critical Value at alpha=0.05: 9.487729036781154\n"
     ]
    }
   ],
   "source": [
    "print(f'Critical Value at alpha=0.05: {critical_value}')"
   ]
  },
  {
   "cell_type": "code",
   "execution_count": 23,
   "id": "ee886d40-978f-4b67-836d-22f03471c463",
   "metadata": {},
   "outputs": [
    {
     "name": "stdout",
     "output_type": "stream",
     "text": [
      "Fail to reject the null hypothesis: No significant association between device type and satisfaction level.\n"
     ]
    }
   ],
   "source": [
    "if chi2 > critical_value:\n",
    "    print('Reject the null hypothesis: There is a significant association between device type and statifaction leel.')\n",
    "else:\n",
    "    print('Fail to reject the null hypothesis: No significant association between device type and satisfaction level.')"
   ]
  },
  {
   "cell_type": "code",
   "execution_count": null,
   "id": "a954481d-8d04-4960-92ea-3c387922eff6",
   "metadata": {},
   "outputs": [],
   "source": []
  }
 ],
 "metadata": {
  "kernelspec": {
   "display_name": "Python [conda env:base] *",
   "language": "python",
   "name": "conda-base-py"
  },
  "language_info": {
   "codemirror_mode": {
    "name": "ipython",
    "version": 3
   },
   "file_extension": ".py",
   "mimetype": "text/x-python",
   "name": "python",
   "nbconvert_exporter": "python",
   "pygments_lexer": "ipython3",
   "version": "3.12.7"
  }
 },
 "nbformat": 4,
 "nbformat_minor": 5
}
