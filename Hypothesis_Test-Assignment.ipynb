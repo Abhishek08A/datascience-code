{
 "cells": [
  {
   "cell_type": "code",
   "execution_count": null,
   "id": "06af23da-297e-4aee-91a2-33162b9ac0df",
   "metadata": {},
   "outputs": [],
   "source": [
    "#1.Hypothessis Statement: \n",
    "# we are testing the actual weekly operating cost is higher than what the theoretical cost model predicts\n"
   ]
  },
  {
   "cell_type": "code",
   "execution_count": null,
   "id": "31c52108-87da-4579-8d8d-1dd814266c03",
   "metadata": {},
   "outputs": [],
   "source": [
    "# Null Hypothesis(H0):the actual weekly cost are not higher than the model suggests\n",
    "# Alternative Hypothesis(H1):the actual weekly cost are higher than the model suggests\n"
   ]
  },
  {
   "cell_type": "code",
   "execution_count": 3,
   "id": "c5db4b88-61e9-46cd-a935-1bec4f04ef4f",
   "metadata": {},
   "outputs": [
    {
     "data": {
      "text/plain": [
       "25.0"
      ]
     },
     "execution_count": 3,
     "metadata": {},
     "output_type": "execute_result"
    }
   ],
   "source": [
    "#2.Clacluate the Test Statistics:\n",
    "import numpy as np\n",
    "from scipy import stats\n",
    "sample_mean=3050\n",
    "Theotrical_mean=1000+5*600   #W=1000+5X where X=600\n",
    "sample_std=5*25   #std for weekly cost\n",
    "n=25  #Sample Size\n",
    "#Calculate Population std deviation\n",
    "pop_std=sample_std/np.sqrt(n)\n",
    "pop_std"
   ]
  },
  {
   "cell_type": "code",
   "execution_count": 5,
   "id": "4e9435e8-554a-491c-85ff-ce1b28aa61fa",
   "metadata": {},
   "outputs": [
    {
     "data": {
      "text/plain": [
       "-38.0"
      ]
     },
     "execution_count": 5,
     "metadata": {},
     "output_type": "execute_result"
    }
   ],
   "source": [
    "#Calculate Test Statistics(Z)\n",
    "z_stats=(sample_mean-Theotrical_mean)/pop_std\n",
    "z_stats"
   ]
  },
  {
   "cell_type": "code",
   "execution_count": 7,
   "id": "be976095-a66a-4677-ba9d-78cd1d101129",
   "metadata": {},
   "outputs": [],
   "source": [
    "#3. Determine the critical value:\n",
    "alpha=0.05"
   ]
  },
  {
   "cell_type": "code",
   "execution_count": 9,
   "id": "b07fc250-4584-4ace-80a1-3a9c94cee581",
   "metadata": {},
   "outputs": [
    {
     "data": {
      "text/plain": [
       "1.6448536269514722"
      ]
     },
     "execution_count": 9,
     "metadata": {},
     "output_type": "execute_result"
    }
   ],
   "source": [
    "#Critical value\n",
    "z_critical=stats.norm.ppf(1-alpha)\n",
    "z_critical"
   ]
  },
  {
   "cell_type": "code",
   "execution_count": 11,
   "id": "42021e6e-375d-4906-b5f5-cfa2c329f830",
   "metadata": {},
   "outputs": [
    {
     "name": "stdout",
     "output_type": "stream",
     "text": [
      "Fail to reject the null Hypothesis: the actual weekly cost are not higher than model suggests\n"
     ]
    }
   ],
   "source": [
    "#4. Make a Decision\n",
    "if z_stats>z_critical:\n",
    "    print('Reject Null Hypothesis: The actual weekly cost are higher than the model suggests')\n",
    "else:\n",
    "    print('Fail to reject the null Hypothesis: the actual weekly cost are not higher than model suggests')"
   ]
  },
  {
   "cell_type": "code",
   "execution_count": null,
   "id": "547d3180-4d93-4b20-abd6-8f2ceb3eb540",
   "metadata": {},
   "outputs": [],
   "source": [
    "#5.Conclusion:\n",
    "# Based on step$ z_stats=-38.0 & z_critical=+1.645 at alpha=0.05\n",
    "#since -38.0<1.645,we fail to reject Null Hypothesis"
   ]
  },
  {
   "cell_type": "code",
   "execution_count": null,
   "id": "78ccc646-5828-4fbb-a323-f1ac72068ed4",
   "metadata": {},
   "outputs": [],
   "source": [
    "#There is no strong evidence to support the restaruant owners claim that the weekly operating cost are higher than the model suggests\n",
    "#This contradicts the claim and suggests either a misunderstanding or error in the reported data or assumptions."
   ]
  }
 ],
 "metadata": {
  "kernelspec": {
   "display_name": "Python [conda env:base] *",
   "language": "python",
   "name": "conda-base-py"
  },
  "language_info": {
   "codemirror_mode": {
    "name": "ipython",
    "version": 3
   },
   "file_extension": ".py",
   "mimetype": "text/x-python",
   "name": "python",
   "nbconvert_exporter": "python",
   "pygments_lexer": "ipython3",
   "version": "3.12.7"
  }
 },
 "nbformat": 4,
 "nbformat_minor": 5
}
