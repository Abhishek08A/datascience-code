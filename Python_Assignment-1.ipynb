{
 "cells": [
  {
   "cell_type": "markdown",
   "id": "ea9fb110-f972-4e45-ad4c-b18343a79ddd",
   "metadata": {},
   "source": [
    "# Exercise-1"
   ]
  },
  {
   "cell_type": "code",
   "execution_count": 4,
   "id": "607ff365-b4b8-4842-85f9-db0a7ff91ed2",
   "metadata": {},
   "outputs": [
    {
     "name": "stdin",
     "output_type": "stream",
     "text": [
      "Enter a number:  11\n"
     ]
    },
    {
     "name": "stdout",
     "output_type": "stream",
     "text": [
      "11 is a prime number.\n"
     ]
    }
   ],
   "source": [
    "#Prime Number\n",
    "\n",
    "p_num = int(input(\"Enter a number: \"))\n",
    "\n",
    "if p_num > 1:\n",
    "    for i in range(2, p_num):\n",
    "        if p_num % i == 0:\n",
    "            print(p_num, \"is not a prime number.\")\n",
    "            break\n",
    "    else:\n",
    "        print(p_num, \"is a prime number.\")\n",
    "else:\n",
    "    print(p_num, \"is not a prime number.\")"
   ]
  },
  {
   "cell_type": "markdown",
   "id": "1aecb7cd-7cd6-44d8-b8ba-16b1876cceb0",
   "metadata": {},
   "source": [
    "# Exercise-2"
   ]
  },
  {
   "cell_type": "code",
   "execution_count": 10,
   "id": "84b51069-4a16-49c7-b231-928fc98c106b",
   "metadata": {},
   "outputs": [
    {
     "name": "stdout",
     "output_type": "stream",
     "text": [
      "What is 1 x 4?\n"
     ]
    },
    {
     "name": "stdin",
     "output_type": "stream",
     "text": [
      "Enter your answer:  5\n"
     ]
    },
    {
     "name": "stdout",
     "output_type": "stream",
     "text": [
      "Oops! The correct answer is 4.\n"
     ]
    }
   ],
   "source": [
    "#Product of Random Numbers\n",
    "\n",
    "import random\n",
    "num1 = random.randint(1, 10)  # Generate two random numbers between 1 and 10\n",
    "num2 = random.randint(1, 10)\n",
    "\n",
    "print(f\"What is {num1} x {num2}?\")   \n",
    "user_answer = int(input(\"Enter your answer: \"))   # Ask the user to enter the product\n",
    "\n",
    "correct_answer = num1 * num2   # Check if the answer is correct\n",
    "\n",
    "if user_answer == correct_answer:\n",
    "    print(\"Correct! Well done.\")\n",
    "else:\n",
    "    print(f\"Oops! The correct answer is {correct_answer}.\")"
   ]
  },
  {
   "cell_type": "markdown",
   "id": "af9ca684-de8b-40cf-b248-2923a05c0667",
   "metadata": {},
   "source": [
    "# Exercise-3"
   ]
  },
  {
   "cell_type": "code",
   "execution_count": 13,
   "id": "1c9398a3-6d3b-4a4f-940a-32573fccfdb3",
   "metadata": {},
   "outputs": [
    {
     "name": "stdout",
     "output_type": "stream",
     "text": [
      "101 squared is 10201\n",
      "103 squared is 10609\n",
      "105 squared is 11025\n",
      "107 squared is 11449\n",
      "109 squared is 11881\n",
      "111 squared is 12321\n",
      "113 squared is 12769\n",
      "115 squared is 13225\n",
      "117 squared is 13689\n",
      "119 squared is 14161\n",
      "121 squared is 14641\n",
      "123 squared is 15129\n",
      "125 squared is 15625\n",
      "127 squared is 16129\n",
      "129 squared is 16641\n",
      "131 squared is 17161\n",
      "133 squared is 17689\n",
      "135 squared is 18225\n",
      "137 squared is 18769\n",
      "139 squared is 19321\n",
      "141 squared is 19881\n",
      "143 squared is 20449\n",
      "145 squared is 21025\n",
      "147 squared is 21609\n",
      "149 squared is 22201\n",
      "151 squared is 22801\n",
      "153 squared is 23409\n",
      "155 squared is 24025\n",
      "157 squared is 24649\n",
      "159 squared is 25281\n",
      "161 squared is 25921\n",
      "163 squared is 26569\n",
      "165 squared is 27225\n",
      "167 squared is 27889\n",
      "169 squared is 28561\n",
      "171 squared is 29241\n",
      "173 squared is 29929\n",
      "175 squared is 30625\n",
      "177 squared is 31329\n",
      "179 squared is 32041\n",
      "181 squared is 32761\n",
      "183 squared is 33489\n",
      "185 squared is 34225\n",
      "187 squared is 34969\n",
      "189 squared is 35721\n",
      "191 squared is 36481\n",
      "193 squared is 37249\n",
      "195 squared is 38025\n",
      "197 squared is 38809\n",
      "199 squared is 39601\n"
     ]
    }
   ],
   "source": [
    "#Squares of Even/Odd Numbers\n",
    "\n",
    "for num in range(100, 201):\n",
    "    if num % 2 != 0:  #Check if the number is odd\n",
    "        square = num ** 2\n",
    "        print(f\"{num} squared is {square}\")"
   ]
  },
  {
   "cell_type": "markdown",
   "id": "194a2a6a-e0d2-4210-9248-064a612b28a8",
   "metadata": {},
   "source": [
    "# Exercise-4\n"
   ]
  },
  {
   "cell_type": "code",
   "execution_count": 25,
   "id": "20854f4b-a7dd-45c5-84bc-7f789d5da45b",
   "metadata": {},
   "outputs": [
    {
     "name": "stdout",
     "output_type": "stream",
     "text": [
      "this is a sample text\n",
      "'this':1\n",
      "'is':1\n",
      "'a':1\n",
      "'sample':1\n",
      "'text':1\n"
     ]
    }
   ],
   "source": [
    "input_text=\"This is a sample text.\"\n",
    "for ch in \".,\":\n",
    "    input_text=input_text.replace(ch, \"\")\n",
    "\n",
    "input_text=input_text.lower()\n",
    "print(input_text)\n",
    "words=input_text.split()\n",
    "word_count={}\n",
    "\n",
    "for word in words:\n",
    "    if word in word_count:\n",
    "        word_count[word]+=1\n",
    "    else:\n",
    "        word_count[word]=1\n",
    "\n",
    "\n",
    "for word, count in word_count.items():\n",
    "    print(f\"'{word}':{count}\")"
   ]
  },
  {
   "cell_type": "markdown",
   "id": "7e05f69b-5d70-47a7-9a28-b13922157f7a",
   "metadata": {},
   "source": [
    "# Exercise-5"
   ]
  },
  {
   "cell_type": "code",
   "execution_count": 21,
   "id": "d367dd59-76a8-401e-9316-6f7369d80dfa",
   "metadata": {},
   "outputs": [
    {
     "name": "stdout",
     "output_type": "stream",
     "text": [
      "True\n",
      "True\n",
      "False\n"
     ]
    }
   ],
   "source": [
    "def is_palindrome(text):\n",
    "    text = text.lower()   #Make all letters lowercase\n",
    "    cleaned = \"\"   #Remove spaces and punctuation\n",
    "    for char in text:\n",
    "        if char.isalnum():  #Keep only letters and numbers\n",
    "            cleaned += char\n",
    "    return cleaned == cleaned[::-1]  #Check if it's the same forwards and backwards\n",
    "\n",
    "#Example usage:\n",
    "print(is_palindrome(\"Madam\"))                         #True\n",
    "print(is_palindrome(\"racecar\")) \t                  #True\n",
    "print(is_palindrome(\"Hello\"))                         #False\n"
   ]
  },
  {
   "cell_type": "code",
   "execution_count": null,
   "id": "2afa48f5-1a41-4dcc-9468-896db4b482cd",
   "metadata": {},
   "outputs": [],
   "source": []
  }
 ],
 "metadata": {
  "kernelspec": {
   "display_name": "Python [conda env:base] *",
   "language": "python",
   "name": "conda-base-py"
  },
  "language_info": {
   "codemirror_mode": {
    "name": "ipython",
    "version": 3
   },
   "file_extension": ".py",
   "mimetype": "text/x-python",
   "name": "python",
   "nbconvert_exporter": "python",
   "pygments_lexer": "ipython3",
   "version": "3.12.7"
  }
 },
 "nbformat": 4,
 "nbformat_minor": 5
}
