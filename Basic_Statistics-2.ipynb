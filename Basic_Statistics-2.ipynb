{
 "cells": [
  {
   "cell_type": "code",
   "execution_count": 1,
   "id": "8182176d-8f3f-4495-a508-e3cc130c7eb0",
   "metadata": {},
   "outputs": [],
   "source": [
    "import numpy as np\n",
    "from scipy import stats\n",
    "# Data: Durability in millions of characters\n",
    "data = [1.13, 1.55, 1.43, 0.92, 1.25, 1.36, 1.32, 0.85, 1.07, 1.48, 1.20, 1.33, 1.18, 1.22, 1.29]\n",
    "n = len(data)\n",
    "mean = np.mean(data)\n",
    "sample_std = np.std(data, ddof=1)  # Sample standard deviation"
   ]
  },
  {
   "cell_type": "code",
   "execution_count": 2,
   "id": "1bb19c75-1e47-4efe-b7ba-001b178fe17d",
   "metadata": {},
   "outputs": [],
   "source": [
    "# Part (a): 99% Confidence Interval using t-distribution (sample standard deviation)\n",
    "confidence=0.99\n",
    "alpha=1 - confidence\n",
    "df=n-1\n",
    "t_critical=stats.t.ppf(1 - alpha / 2, df)\n",
    "t_score=t_critical*(sample_std / np.sqrt(n))\n",
    "ci_t=(mean-t_score,mean + t_score)"
   ]
  },
  {
   "cell_type": "code",
   "execution_count": 3,
   "id": "40026d32-4c03-4fc7-bac8-be27ea7f20c4",
   "metadata": {},
   "outputs": [],
   "source": [
    "# Part (b): 99% Confidence Interval using z-distribution (known population standard deviation)\n",
    "pop_std = 0.2  # known population standard deviation\n",
    "z_critical = stats.norm.ppf(1 - alpha / 2)\n",
    "z_score = z_critical * (pop_std / np.sqrt(n))\n",
    "ci_z = (mean - z_score, mean + z_score)"
   ]
  },
  {
   "cell_type": "code",
   "execution_count": 7,
   "id": "e0a6ccc9-34ce-4dc0-abd2-637c6497bdd5",
   "metadata": {},
   "outputs": [
    {
     "name": "stdout",
     "output_type": "stream",
     "text": [
      "Sample mean: 1.239\n",
      "Sample standard deviation: 0.1932\n",
      "99% CI using sample std (t-distribution): (1.0901973384384906, 1.3871359948948425)\n",
      "99% CI using known population std (z-distribution): (1.1056514133957607, 1.3716819199375725)\n"
     ]
    }
   ],
   "source": [
    "# Output\n",
    "print(\"Sample mean:\",round(mean,3))\n",
    "print(\"Sample standard deviation:\",round(sample_std,4))\n",
    "print(\"99% CI using sample std (t-distribution):\", tuple(map(float, ci_t)))\n",
    "print(\"99% CI using known population std (z-distribution):\", tuple(map(float, ci_z)))"
   ]
  },
  {
   "cell_type": "code",
   "execution_count": 11,
   "id": "7fdea3c1-5fdb-4a52-bd9e-b2433877f91c",
   "metadata": {},
   "outputs": [],
   "source": [
    "#Infer:\n",
    "#Using the durability data from these 15 samples, two 99% confidence intervals were constructed:\n",
    "#Using the sample standard deviation (unknown population standard deviation):\n",
    "#→ Estimated average durability lies between 1.090 and 1.387 million characters\n",
    "\n",
    "#Using the known population standard deviation (σ = 0.2):\n",
    "#→ Estimated average durability lies between 1.106 and 1.372 million characters"
   ]
  }
 ],
 "metadata": {
  "kernelspec": {
   "display_name": "Python [conda env:base] *",
   "language": "python",
   "name": "conda-base-py"
  },
  "language_info": {
   "codemirror_mode": {
    "name": "ipython",
    "version": 3
   },
   "file_extension": ".py",
   "mimetype": "text/x-python",
   "name": "python",
   "nbconvert_exporter": "python",
   "pygments_lexer": "ipython3",
   "version": "3.12.7"
  }
 },
 "nbformat": 4,
 "nbformat_minor": 5
}
